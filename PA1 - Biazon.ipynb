{
 "cells": [
  {
   "cell_type": "code",
   "execution_count": 5,
   "id": "335787e0-b04b-4510-8880-603c4d1b4d73",
   "metadata": {},
   "outputs": [
    {
     "name": "stdin",
     "output_type": "stream",
     "text": [
      "Enter a word:  advanced programming\n"
     ]
    },
    {
     "name": "stdout",
     "output_type": "stream",
     "text": [
      " aaacddeggimmnnoprrv\n"
     ]
    }
   ],
   "source": [
    "#A function that takes a string and returns a string with its letters in alphabetical order\n",
    "alphabet = input(\"Enter a word: \") #user input a variable \n",
    "string = sorted(alphabet) #makes the string in alphabetical order\n",
    "sorted_alphabet = \"\".join(string) #makes the sorted strings into another string\n",
    "print (sorted_alphabet) #prints the sorted word into alphabetical order"
   ]
  },
  {
   "cell_type": "code",
   "execution_count": 12,
   "id": "532c4377-6a89-4e6f-a2de-02458a79a492",
   "metadata": {
    "scrolled": true
   },
   "outputs": [
    {
     "name": "stdin",
     "output_type": "stream",
     "text": [
      "Enter a sentence:  when i am sad i just smile but it makes me mad then i just grin\n"
     ]
    },
    {
     "name": "stdout",
     "output_type": "stream",
     "text": [
      "when i am :(( i just :) but it makes me >:( then i just :D\n"
     ]
    }
   ],
   "source": [
    "#A function that changes specific words into emoticons\n",
    "def emotions(sentence): #defines a function\n",
    "    emoji = {\"smile\":\":)\",\"grin\":\":D\",\"sad\":\":((\",\"mad\":\">:(\"} #a dictionary to assign the emojis\n",
    "    return \" \".join(emoji.get(word.lower(),word)for word in sentence.split()) #splits the sentence word for word then checks the dictionary if the word checked satisfy the following emoji\n",
    "\n",
    "sentence = input (\"Enter a sentence: \") #user input\n",
    "print(emotions(sentence)) #outputs the sentence with translated emoji"
   ]
  },
  {
   "cell_type": "code",
   "execution_count": 20,
   "id": "7e39c944-3da5-43b0-95c1-9e6e8d8e84c9",
   "metadata": {},
   "outputs": [
    {
     "name": "stdout",
     "output_type": "stream",
     "text": [
      "First: 1 Middle: [2, 3, 4, 5] Last: 6\n"
     ]
    }
   ],
   "source": [
    "# A function that unpacks a list into three variables, being first,middle, and last, with middle being everything in between the first and last element.\n",
    "a = [1,2,3,4,5,6] #list set to the variable a\n",
    "\n",
    "First = a[0] #get the first variable on the list and set to \"middle\"\n",
    "Middle = a[1:-1] #gets the second and second to the last variable on the list and set to \"middle\"\n",
    "Last = a[-1] # gets the last variable on the list and set to \"last\"\n",
    "\n",
    "print(\"First:\", First, \"Middle:\", Middle, \"Last:\", Last) #output"
   ]
  }
 ],
 "metadata": {
  "kernelspec": {
   "display_name": "Python 3 (ipykernel)",
   "language": "python",
   "name": "python3"
  },
  "language_info": {
   "codemirror_mode": {
    "name": "ipython",
    "version": 3
   },
   "file_extension": ".py",
   "mimetype": "text/x-python",
   "name": "python",
   "nbconvert_exporter": "python",
   "pygments_lexer": "ipython3",
   "version": "3.13.5"
  }
 },
 "nbformat": 4,
 "nbformat_minor": 5
}
